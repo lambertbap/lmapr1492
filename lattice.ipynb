{
 "cells": [
  {
   "cell_type": "code",
   "execution_count": 12,
   "metadata": {},
   "outputs": [],
   "source": [
    "from pymatgen.ext.matproj import MPRester\n",
    "from pymatgen.symmetry.analyzer import SpacegroupAnalyzer\n",
    "from pprint import pprint\n",
    "with MPRester(\"KwnCeSBHTUbZ9VP0\") as m:\n",
    "\n",
    "    # Structure for material id\n",
    "    structure = m.get_structure_by_material_id(\"mp-1018100\")"
   ]
  },
  {
   "cell_type": "code",
   "execution_count": 13,
   "metadata": {},
   "outputs": [],
   "source": [
    "s = SpacegroupAnalyzer(structure)"
   ]
  },
  {
   "cell_type": "code",
   "execution_count": 14,
   "metadata": {},
   "outputs": [
    {
     "name": "stdout",
     "output_type": "stream",
     "text": [
      "4.400645 0.000000 0.000000\n",
      "-2.200322 3.810560 0.000000\n",
      "0.000000 0.000000 7.220631\n"
     ]
    }
   ],
   "source": [
    "a = structure.lattice\n",
    "print(a)"
   ]
  },
  {
   "cell_type": "code",
   "execution_count": 15,
   "metadata": {},
   "outputs": [
    {
     "name": "stdout",
     "output_type": "stream",
     "text": [
      "1.427787 0.824444 0.000000\n",
      "0.000000 1.648888 0.000000\n",
      "0.000000 0.000000 0.870171\n"
     ]
    }
   ],
   "source": [
    "b = structure.lattice.reciprocal_lattice\n",
    "print(b)"
   ]
  },
  {
   "cell_type": "code",
   "execution_count": 16,
   "metadata": {},
   "outputs": [
    {
     "data": {
      "text/plain": [
       "'hexagonal'"
      ]
     },
     "execution_count": 16,
     "metadata": {},
     "output_type": "execute_result"
    }
   ],
   "source": [
    "s.get_crystal_system()"
   ]
  },
  {
   "cell_type": "code",
   "execution_count": 17,
   "metadata": {},
   "outputs": [
    {
     "data": {
      "text/plain": [
       "'6mm'"
      ]
     },
     "execution_count": 17,
     "metadata": {},
     "output_type": "execute_result"
    }
   ],
   "source": [
    "s.get_point_group_symbol()"
   ]
  },
  {
   "cell_type": "code",
   "execution_count": 18,
   "metadata": {},
   "outputs": [
    {
     "data": {
      "text/plain": [
       "'hexagonal'"
      ]
     },
     "execution_count": 18,
     "metadata": {},
     "output_type": "execute_result"
    }
   ],
   "source": [
    "s.get_lattice_type()"
   ]
  },
  {
   "cell_type": "code",
   "execution_count": 19,
   "metadata": {},
   "outputs": [
    {
     "data": {
      "text/plain": [
       "Structure Summary\n",
       "Lattice\n",
       "    abc : 4.400423682489833 4.400423682489833 7.22063052\n",
       " angles : 90.0 90.0 119.99999999999999\n",
       " volume : 121.0862253525156\n",
       "      A : 2.2002118412449163 -3.8108786964508634 0.0\n",
       "      B : 2.2002118412449163 3.8108786964508634 0.0\n",
       "      C : 0.0 0.0 7.22063052\n",
       "PeriodicSite: Al (2.2002, -1.2703, 3.6097) [0.6667, 0.3333, 0.4999]\n",
       "PeriodicSite: Al (2.2002, 1.2703, 7.2201) [0.3333, 0.6667, 0.9999]\n",
       "PeriodicSite: Sb (2.2002, -1.2703, 6.3193) [0.6667, 0.3333, 0.8752]\n",
       "PeriodicSite: Sb (2.2002, 1.2703, 2.7090) [0.3333, 0.6667, 0.3752]"
      ]
     },
     "execution_count": 19,
     "metadata": {},
     "output_type": "execute_result"
    }
   ],
   "source": [
    "#SpacegroupAnalyzer(s).get_primitive_standard_structure()\n",
    "s.get_primitive_standard_structure()"
   ]
  },
  {
   "cell_type": "code",
   "execution_count": null,
   "metadata": {},
   "outputs": [],
   "source": []
  }
 ],
 "metadata": {
  "kernelspec": {
   "display_name": "Python 3",
   "language": "python",
   "name": "python3"
  },
  "language_info": {
   "codemirror_mode": {
    "name": "ipython",
    "version": 3
   },
   "file_extension": ".py",
   "mimetype": "text/x-python",
   "name": "python",
   "nbconvert_exporter": "python",
   "pygments_lexer": "ipython3",
   "version": "3.6.8"
  }
 },
 "nbformat": 4,
 "nbformat_minor": 2
}
